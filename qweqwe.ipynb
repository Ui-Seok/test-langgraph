{
 "cells": [
  {
   "cell_type": "code",
   "execution_count": 1,
   "metadata": {},
   "outputs": [],
   "source": [
    "from IPython.display import Image, display\n",
    "\n",
    "from typing import Any\n",
    "from typing_extensions import TypedDict\n",
    "\n",
    "from langgraph.graph import StateGraph, START, END"
   ]
  },
  {
   "cell_type": "code",
   "execution_count": 2,
   "metadata": {},
   "outputs": [],
   "source": [
    "import operator\n",
    "from typing import Annotated"
   ]
  },
  {
   "cell_type": "code",
   "execution_count": 4,
   "metadata": {},
   "outputs": [],
   "source": [
    "class State(TypedDict):\n",
    "    # operator.add 리듀서 함수는 이것을 추가 전용으로 만듭니다\n",
    "    state: str\n",
    "\n",
    "class ReturnNodeValue:\n",
    "    def __init__(self, node_secret: str):\n",
    "        self._value = node_secret\n",
    "\n",
    "    def __call__(self, state: State) -> Any:\n",
    "        print(f\"{self._value}를 {state['state']}에 추가합니다\")\n",
    "        return {\"state\": [self._value]}\n"
   ]
  },
  {
   "cell_type": "code",
   "execution_count": 34,
   "metadata": {},
   "outputs": [
    {
     "data": {
      "image/png": "[encoded data removed]",
      "text/plain": [
       "<IPython.core.display.Image object>"
      ]
     },
     "metadata": {},
     "output_type": "display_data"
    }
   ],
   "source": [
    "def sorting_reducer(left, right):\n",
    "    \"\"\" 리스트의 값들을 결합하고 정렬합니다\"\"\"\n",
    "    # print(f\"Left: {left}, Right: {right}\")\n",
    "    if not isinstance(left, list):\n",
    "        left = [left]\n",
    "\n",
    "    if not isinstance(right, list):\n",
    "        right = [right]\n",
    "    \n",
    "    return sorted(left + right, reverse=False)\n",
    "\n",
    "class State(TypedDict):\n",
    "    # sorting_reducer는 상태의 값들을 정렬합니다\n",
    "    state: Annotated[list, sorting_reducer]\n",
    "\n",
    "# 노드 추가\n",
    "builder = StateGraph(State)\n",
    "\n",
    "# 각 노드를 node_secret으로 초기화 \n",
    "builder.add_node(\"a\", ReturnNodeValue(\"I'm A\"))\n",
    "builder.add_node(\"b1\", ReturnNodeValue(\"I'm B1\"))\n",
    "builder.add_node(\"b2\", ReturnNodeValue(\"I'm B2\"))\n",
    "builder.add_node(\"c1\", ReturnNodeValue(\"I'm C1\"))\n",
    "builder.add_node(\"c2\", ReturnNodeValue(\"I'm C2\"))\n",
    "builder.add_node(\"d\", ReturnNodeValue(\"I'm D\"))\n",
    "\n",
    "# 흐름\n",
    "builder.add_edge(START, \"a\")\n",
    "builder.add_edge(\"a\", \"b1\")\n",
    "builder.add_edge(\"a\", \"c1\")\n",
    "builder.add_edge(\"b1\", \"b2\")\n",
    "builder.add_edge(\"c1\", \"c2\")\n",
    "builder.add_edge([\"b2\", \"c2\"], \"d\")\n",
    "builder.add_edge(\"d\", END)\n",
    "graph = builder.compile()\n",
    "\n",
    "display(Image(graph.get_graph().draw_mermaid_png()))"
   ]
  },
  {
   "cell_type": "code",
   "execution_count": 31,
   "metadata": {},
   "outputs": [
    {
     "name": "stdout",
     "output_type": "stream",
     "text": [
      "I'm A를 []에 추가합니다\n",
      "I'm B1를 [\"I'm A\"]에 추가합니다\n",
      "I'm C1를 [\"I'm A\"]에 추가합니다\n",
      "I'm B2를 [\"I'm A\", \"I'm B1\", \"I'm C1\"]에 추가합니다\n",
      "I'm C2를 [\"I'm A\", \"I'm B1\", \"I'm C1\"]에 추가합니다\n",
      "I'm D를 [\"I'm A\", \"I'm B1\", \"I'm C1\", \"I'm B2\", \"I'm C2\"]에 추가합니다\n"
     ]
    },
    {
     "data": {
      "text/plain": [
       "{'state': [\"I'm A\", \"I'm B1\", \"I'm C1\", \"I'm B2\", \"I'm C2\", \"I'm D\"]}"
      ]
     },
     "execution_count": 31,
     "metadata": {},
     "output_type": "execute_result"
    }
   ],
   "source": [
    "graph.invoke({\"state\": []})"
   ]
  },
  {
   "cell_type": "code",
   "execution_count": 35,
   "metadata": {},
   "outputs": [
    {
     "name": "stdout",
     "output_type": "stream",
     "text": [
      "I'm A를 []에 추가합니다\n",
      "I'm B1를 [\"I'm A\"]에 추가합니다\n",
      "I'm C1를 [\"I'm A\"]에 추가합니다\n",
      "I'm B2를 [\"I'm A\", \"I'm B1\", \"I'm C1\"]에 추가합니다\n",
      "I'm C2를 [\"I'm A\", \"I'm B1\", \"I'm C1\"]에 추가합니다\n",
      "I'm D를 [\"I'm A\", \"I'm B1\", \"I'm B2\", \"I'm C1\", \"I'm C2\"]에 추가합니다\n"
     ]
    },
    {
     "data": {
      "text/plain": [
       "{'state': [\"I'm A\", \"I'm B1\", \"I'm B2\", \"I'm C1\", \"I'm C2\", \"I'm D\"]}"
      ]
     },
     "execution_count": 35,
     "metadata": {},
     "output_type": "execute_result"
    }
   ],
   "source": [
    "graph.invoke({\"state\": []})"
   ]
  },
  {
   "cell_type": "code",
   "execution_count": null,
   "metadata": {},
   "outputs": [],
   "source": []
  }
 ],
 "metadata": {
  "kernelspec": {
   "display_name": "kiss",
   "language": "python",
   "name": "python3"
  },
  "language_info": {
   "codemirror_mode": {
    "name": "ipython",
    "version": 3
   },
   "file_extension": ".py",
   "mimetype": "text/x-python",
   "name": "python",
   "nbconvert_exporter": "python",
   "pygments_lexer": "ipython3",
   "version": "3.10.0"
  }
 },
 "nbformat": 4,
 "nbformat_minor": 2
}
